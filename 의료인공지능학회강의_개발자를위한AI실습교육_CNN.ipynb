{
  "cells": [
    {
      "cell_type": "markdown",
      "metadata": {
        "id": "view-in-github",
        "colab_type": "text"
      },
      "source": [
        "<a href=\"https://colab.research.google.com/github/monindew/study/blob/main/%E1%84%8B%E1%85%B4%E1%84%85%E1%85%AD%E1%84%8B%E1%85%B5%E1%86%AB%E1%84%80%E1%85%A9%E1%86%BC%E1%84%8C%E1%85%B5%E1%84%82%E1%85%B3%E1%86%BC%E1%84%92%E1%85%A1%E1%86%A8%E1%84%92%E1%85%AC%E1%84%80%E1%85%A1%E1%86%BC%E1%84%8B%E1%85%B4_%EA%B0%9C%EB%B0%9C%EC%9E%90%EB%A5%BC%EC%9C%84%ED%95%9CAI%EC%8B%A4%EC%8A%B5%EA%B5%90%EC%9C%A1_CNN.ipynb\" target=\"_parent\"><img src=\"https://colab.research.google.com/assets/colab-badge.svg\" alt=\"Open In Colab\"/></a>"
      ]
    },
    {
      "cell_type": "markdown",
      "source": [
        "# 의료인공지능학회_CNN\n",
        "\n",
        "# 개발자를 위한 AI 실습교육\n",
        "# 2024. 10. 24"
      ],
      "metadata": {
        "id": "_3d0CEMfPdWo"
      }
    },
    {
      "cell_type": "code",
      "source": [
        "import torch  # PyTorch 라이브러리 임포트\n",
        "import torch.nn as nn  # 신경망 모듈(nn)을 임포트\n",
        "import torch.optim as optim  # 최적화 모듈(optim)을 임포트\n",
        "import torch.backends.cudnn as cudnn  # GPU 성능 최적화를 위한 cudnn 백엔드 임포트\n",
        "import numpy as np  # 배열 및 수학 계산을 위한 NumPy 임포트\n",
        "import torchvision  # 이미지 데이터셋 및 모델을 위한 torchvision 임포트\n",
        "from torchvision import datasets, models, transforms  # 데이터셋, 모델, 이미지 변환(transform) 임포트\n",
        "import matplotlib.pyplot as plt  # 그래프 시각화를 위한 matplotlib의 pyplot 임포트\n",
        "import time  # 시간 측정을 위한 time 모듈 임포트\n",
        "import PIL  # 이미지 처리를 위한 Python Imaging Library (PIL) 임포트\n",
        "import os  # 파일 및 디렉토리 작업을 위한 os 모듈 임포트\n",
        "from PIL import Image  # 이미지 파일 처리를 위한 Image 클래스 임포트\n",
        "from tempfile import TemporaryDirectory  # 임시 디렉토리 생성 모듈 임포트"
      ],
      "metadata": {
        "id": "HTyRGbeT9OPX"
      },
      "execution_count": 1,
      "outputs": []
    },
    {
      "cell_type": "code",
      "execution_count": 2,
      "metadata": {
        "id": "-2pSM6g9zJfo",
        "colab": {
          "base_uri": "https://localhost:8080/"
        },
        "outputId": "9dcaf07b-c959-45a7-cd74-ea3d736cfad0"
      },
      "outputs": [
        {
          "output_type": "stream",
          "name": "stdout",
          "text": [
            "Collecting split-folders\n",
            "  Downloading split_folders-0.5.1-py3-none-any.whl.metadata (6.2 kB)\n",
            "Downloading split_folders-0.5.1-py3-none-any.whl (8.4 kB)\n",
            "Installing collected packages: split-folders\n",
            "Successfully installed split-folders-0.5.1\n",
            "Downloading...\n",
            "From (original): https://drive.google.com/uc?id=1F-2UVD7_a2q13Gv5ns_F2Ytc2N0V8pos\n",
            "From (redirected): https://drive.google.com/uc?id=1F-2UVD7_a2q13Gv5ns_F2Ytc2N0V8pos&confirm=t&uuid=05abce38-2b19-4ce6-828b-f65a8769271c\n",
            "To: /content/MedNIST.tar.gz\n",
            "100% 61.8M/61.8M [00:01<00:00, 31.9MB/s]\n"
          ]
        }
      ],
      "source": [
        "!pip install split-folders  # split-folders 라이브러리 설치 (데이터셋 분할용)\n",
        "import splitfolders  # 데이터셋 분할을 위한 splitfolders 라이브러리 임포트\n",
        "\n",
        "!gdown 1F-2UVD7_a2q13Gv5ns_F2Ytc2N0V8pos  # Google Drive에서 데이터셋 다운로드\n",
        "!tar -zxf MedNIST.tar.gz  # 다운로드한 압축 파일을 풀기\n",
        "\n",
        "cudnn.benchmark = True  # GPU 성능 최적화를 위해 cudnn 벤치마크 모드 활성화"
      ]
    },
    {
      "cell_type": "code",
      "execution_count": 3,
      "metadata": {
        "id": "LCuWsSy60_A_"
      },
      "outputs": [],
      "source": [
        "root_dir = os.path.join(\"MedNIST\") # mednist 데이터셋이 있는 경로"
      ]
    },
    {
      "cell_type": "code",
      "execution_count": 4,
      "metadata": {
        "id": "tAyfnZUr7On1",
        "colab": {
          "base_uri": "https://localhost:8080/"
        },
        "outputId": "f8bb392a-306a-4e48-d656-248a62a7ecec"
      },
      "outputs": [
        {
          "output_type": "stream",
          "name": "stdout",
          "text": [
            "Total image count: 58954\n",
            "Image dimensions: 64 x 64\n",
            "Label names: ['AbdomenCT', 'BreastMRI', 'CXR', 'ChestCT', 'Hand', 'HeadCT']\n",
            "Label counts: [10000, 8954, 10000, 10000, 10000, 10000]\n"
          ]
        }
      ],
      "source": [
        "class_names = sorted(x for x in os.listdir(root_dir) if os.path.isdir(os.path.join(root_dir, x)))  #  클래스 이름 리스트\n",
        "num_class = len(class_names) # 클래스 개수\n",
        "image_files = [ # 각 클래스별 이미지 경로 리스트\n",
        "    [os.path.join(root_dir, class_names[i], x) for x in os.listdir(os.path.join(root_dir, class_names[i]))]\n",
        "    for i in range(num_class)\n",
        "]\n",
        "num_each = [len(image_files[i]) for i in range(num_class)] # 각 클래스별 이미지 개수\n",
        "image_files_list = []\n",
        "image_class = []\n",
        "\n",
        "for i in range(num_class):\n",
        "    image_files_list.extend(image_files[i]) # 이미지 경로 리스트\n",
        "    image_class.extend([i] * num_each[i]) # 이미지 라벨 리스트\n",
        "num_total = len(image_class)   # 전체 이미지 개수\n",
        "image_width, image_height = PIL.Image.open(image_files_list[0]).size # 이미지 사이즈 확인\n",
        "\n",
        "print(f\"Total image count: {num_total}\")\n",
        "print(f\"Image dimensions: {image_width} x {image_height}\")\n",
        "print(f\"Label names: {class_names}\")\n",
        "print(f\"Label counts: {num_each}\")"
      ]
    },
    {
      "cell_type": "code",
      "execution_count": 5,
      "metadata": {
        "id": "ASkn1DPL777R",
        "colab": {
          "base_uri": "https://localhost:8080/",
          "height": 806
        },
        "outputId": "5b5641bd-c038-4796-811b-218e24247fee"
      },
      "outputs": [
        {
          "output_type": "display_data",
          "data": {
            "text/plain": [
              "<Figure size 800x800 with 9 Axes>"
            ],
            "image/png": "[encoded data removed]"
          },
          "metadata": {}
        }
      ],
      "source": [
        "# 예시 이미지 출력\n",
        "plt.subplots(3, 3, figsize=(8, 8))\n",
        "for i, k in enumerate(np.random.randint(num_total, size=9)):\n",
        "    im = PIL.Image.open(image_files_list[k])\n",
        "    arr = np.array(im)\n",
        "    plt.subplot(3, 3, i + 1)\n",
        "    plt.xlabel(class_names[image_class[k]])\n",
        "    plt.imshow(arr, cmap=\"gray\", vmin=0, vmax=255)\n",
        "plt.tight_layout()\n",
        "plt.show()"
      ]
    },
    {
      "cell_type": "code",
      "execution_count": 6,
      "metadata": {
        "id": "XwTR8B8ctnd3",
        "colab": {
          "base_uri": "https://localhost:8080/"
        },
        "outputId": "b5ff7f2a-3f41-4658-fe7e-c0598a899edd"
      },
      "outputs": [
        {
          "output_type": "stream",
          "name": "stderr",
          "text": [
            "Copying files: 7200 files [00:01, 4347.41 files/s]\n"
          ]
        }
      ],
      "source": [
        "data_dir=\"data\"\n",
        "# train, val, test 데이터로 분할\n",
        "splitfolders.fixed(root_dir, data_dir,\n",
        "    seed=1337, fixed=(1000,100,100),group_prefix=None) # 각 클래스별 1000개씩 train, 100개씩 val, 100개씩 test 데이터로 분할"
      ]
    },
    {
      "cell_type": "code",
      "execution_count": 7,
      "metadata": {
        "id": "vgC8jRU4wnhk",
        "colab": {
          "base_uri": "https://localhost:8080/"
        },
        "outputId": "2b84e8c7-3e61-483b-ae48-0de1cb5fb16d"
      },
      "outputs": [
        {
          "output_type": "stream",
          "name": "stdout",
          "text": [
            "['CXR', 'BreastMRI', 'HeadCT', 'AbdomenCT', 'Hand', 'ChestCT']\n"
          ]
        }
      ],
      "source": [
        "print(os.listdir(os.path.join(data_dir,\"train\"))) # train 데이터 확인"
      ]
    },
    {
      "cell_type": "code",
      "source": [
        "print(os.listdir(os.path.join(data_dir,\"test\"))) # test 데이터 확인"
      ],
      "metadata": {
        "colab": {
          "base_uri": "https://localhost:8080/"
        },
        "id": "KFhWWX4w5CEb",
        "outputId": "639034e2-c938-4f73-b1bd-ca596719a63a"
      },
      "execution_count": 8,
      "outputs": [
        {
          "output_type": "stream",
          "name": "stdout",
          "text": [
            "['CXR', 'BreastMRI', 'HeadCT', 'AbdomenCT', 'Hand', 'ChestCT']\n"
          ]
        }
      ]
    },
    {
      "cell_type": "code",
      "source": [
        "print(os.listdir(os.path.join(data_dir,\"val\"))) # val 데이터 확인"
      ],
      "metadata": {
        "colab": {
          "base_uri": "https://localhost:8080/"
        },
        "id": "13NCb2p_5EV-",
        "outputId": "ccc2c302-a917-442d-c6f8-867c165c8428"
      },
      "execution_count": 9,
      "outputs": [
        {
          "output_type": "stream",
          "name": "stdout",
          "text": [
            "['CXR', 'BreastMRI', 'HeadCT', 'AbdomenCT', 'Hand', 'ChestCT']\n"
          ]
        }
      ]
    },
    {
      "cell_type": "code",
      "execution_count": 10,
      "metadata": {
        "id": "qDxHNAfKLskH"
      },
      "outputs": [],
      "source": [
        "# Data augmentation and normalization for training\n",
        "# Just normalization for validation\n",
        "\n",
        "# 데이터셋에 적용할 변형(transformation) 정의\n",
        "data_transforms = {\n",
        "    'train': transforms.Compose([ # 데이터 변환 설정\n",
        "        transforms.ToTensor(),  # 이미지를 텐서 형식으로 변환\n",
        "        transforms.Normalize([0.485, 0.456, 0.406], [0.229, 0.224, 0.225]) #Normalize란? 안정적인 학습을 위해 표준화; weight변화량에 덜 민감하게되며 최적화시키기 쉬워짐 ; 평균과 표준편차값을 미리 구해둠\n",
        "    ]),\n",
        "    'val': transforms.Compose([\n",
        "        transforms.ToTensor(),\n",
        "        transforms.Normalize([0.485, 0.456, 0.406], [0.229, 0.224, 0.225])\n",
        "    ]),\n",
        "    'test': transforms.Compose([\n",
        "        transforms.ToTensor(),\n",
        "        transforms.Normalize([0.485, 0.456, 0.406], [0.229, 0.224, 0.225])\n",
        "    ]),\n",
        "}\n",
        "\n",
        "# 데이터셋 만들기\n",
        "image_datasets = {x: datasets.ImageFolder(os.path.join(data_dir, x),\n",
        "                                          data_transforms[x])\n",
        "                  for x in ['train', 'val','test']}\n",
        "# 데이터로더 만들기\n",
        "dataloaders = {x: torch.utils.data.DataLoader(image_datasets[x], batch_size=300,\n",
        "                                             shuffle=True, num_workers=4) # 날것의 데이터셋을 학습할 때 쓰기 용이한 형태로 바꿔주는 역할\n",
        "              for x in ['train', 'val','test']}\n",
        "\n",
        "dataset_sizes = {x: len(image_datasets[x]) for x in ['train', 'val','test']} # 데이터셋 크기\n",
        "class_names = image_datasets['train'].classes # 클래스 이름\n",
        "\n",
        "device = torch.device(\"cuda:0\" if torch.cuda.is_available() else \"cpu\") # GPU 사용 가능 여부에 따라 device 정보 저장"
      ]
    },
    {
      "cell_type": "code",
      "execution_count": 11,
      "metadata": {
        "id": "g_VtkuKUuasj",
        "colab": {
          "base_uri": "https://localhost:8080/"
        },
        "outputId": "a7b6a120-09d0-400e-e637-e6abc9cf2dc2"
      },
      "outputs": [
        {
          "output_type": "execute_result",
          "data": {
            "text/plain": [
              "{'train': 6000, 'val': 600, 'test': 600}"
            ]
          },
          "metadata": {},
          "execution_count": 11
        }
      ],
      "source": [
        "dataset_sizes # 데이터셋 크기 확인"
      ]
    },
    {
      "cell_type": "markdown",
      "source": [
        "# ResNet 모델 구조"
      ],
      "metadata": {
        "id": "QG9e-AdPgFwx"
      }
    },
    {
      "cell_type": "code",
      "source": [
        "# ResNet은 잔차 블록(residual block)을 사용하여 네트워크가 더 깊어지더라도 학습이 잘 되도록 만듭니다.\n",
        "# 이 residual block은 Skip Connection을 통해 입력과 출력의 차이를 줄이고, 기울기 소실 문제를 해결합니다.\n",
        "\n",
        "class BasicBlock(nn.Module):\n",
        "    def __init__(self, in_channels, out_channels, stride=1):\n",
        "        \"\"\"\n",
        "        초기화 메서드: BasicBlock 객체가 생성될 때 호출됩니다.\n",
        "        여러 Layer(계층)을 정의하고, 스킵 연결(Skip Connection)이 필요한지 확인합니다.\n",
        "        \"\"\"\n",
        "        super(BasicBlock, self).__init__()  # 부모 클래스(nn.Module)의 초기화 함수 호출\n",
        "\n",
        "        # 첫 번째 3x3 컨볼루션 계층: 입력 이미지에서 특성(feature)을 추출합니다.\n",
        "        self.conv1 = nn.Conv2d(\n",
        "            in_channels, out_channels, kernel_size=3, stride=stride, padding=1, bias=False\n",
        "        )\n",
        "        # 배치 정규화(Batch Normalization): 각 배치에서 정규화를 수행해 학습의 안정성을 높입니다.\n",
        "        self.bn1 = nn.BatchNorm2d(out_channels)\n",
        "\n",
        "        # ReLU 활성화 함수: 비선형성을 추가해 모델이 복잡한 패턴을 학습할 수 있도록 합니다.\n",
        "        # inplace=True는 메모리를 절약하기 위해 활성화 함수의 출력을 기존 메모리 공간에 덮어씁니다.\n",
        "        self.relu = nn.ReLU(inplace=True)\n",
        "\n",
        "        # 두 번째 3x3 컨볼루션 계층: 추가적인 특성 추출을 수행합니다.\n",
        "        self.conv2 = nn.Conv2d(\n",
        "            out_channels, out_channels, kernel_size=3, stride=1, padding=1, bias=False\n",
        "        )\n",
        "        # 두 번째 배치 정규화 계층\n",
        "        self.bn2 = nn.BatchNorm2d(out_channels)\n",
        "\n",
        "        # 스킵 연결(Skip Connection)을 정의합니다.\n",
        "        # 스킵 연결은 입력이 그대로 출력으로 전달될 수 있게 해줍니다.\n",
        "        # 이는 네트워크가 매우 깊어질 때 기울기 소실 문제를 해결하는 핵심 요소입니다.\n",
        "        self.skip = nn.Sequential()  # 기본적으로 아무것도 하지 않는 빈 Sequential 객체\n",
        "\n",
        "        # 스킵 연결이 필요한 경우(입력과 출력의 채널 수나 스트라이드가 다를 때)\n",
        "        if stride != 1 or in_channels != out_channels:\n",
        "            # 1x1 컨볼루션 계층: 입력의 차원을 출력에 맞춰 조정합니다.\n",
        "            # 스트라이드 조정이 필요한 경우도 처리할 수 있습니다.\n",
        "            self.skip = nn.Sequential(\n",
        "                nn.Conv2d(in_channels, out_channels, kernel_size=1, stride=stride, bias=False),\n",
        "                nn.BatchNorm2d(out_channels)  # 정규화 수행\n",
        "            )\n",
        "\n",
        "    def forward(self, x):\n",
        "        \"\"\"\n",
        "        순전파(forward) 함수: 입력을 받아 네트워크를 거쳐 최종 출력을 반환합니다.\n",
        "        스킵 연결을 사용해 입력을 더합니다.\n",
        "        \"\"\"\n",
        "        # 스킵 연결을 통해 입력을 변환해 identity에 저장합니다.\n",
        "        # (스킵 연결이 필요하지 않으면 그냥 입력이 사용됩니다.)\n",
        "        identity = self.skip(x)\n",
        "\n",
        "        # 첫 번째 컨볼루션, 배치 정규화, ReLU를 차례대로 적용합니다.\n",
        "        out = self.conv1(x)  # 첫 번째 컨볼루션 수행\n",
        "        out = self.bn1(out)  # 배치 정규화 수행\n",
        "        out = self.relu(out)  # ReLU 활성화 적용\n",
        "\n",
        "        # 두 번째 컨볼루션과 배치 정규화를 수행합니다.\n",
        "        out = self.conv2(out)  # 두 번째 컨볼루션 수행\n",
        "        out = self.bn2(out)  # 배치 정규화 수행\n",
        "\n",
        "        # 입력(identity)을 더해줍니다(스킵 연결).\n",
        "        out += identity  # 스킵 연결을 통해 입력과 출력을 더하기\n",
        "\n",
        "        # 다시 ReLU 활성화 함수 적용 (더해진 결과에 대해)\n",
        "        out = self.relu(out)\n",
        "\n",
        "        # 최종 출력을 반환합니다.\n",
        "        return out"
      ],
      "metadata": {
        "id": "GBN4FJ86gQJr"
      },
      "execution_count": 12,
      "outputs": []
    },
    {
      "cell_type": "code",
      "source": [
        "# 이제 여러 BasicBlock을 사용하여 ResNet-18 모델을 만듭니다.\n",
        "class ResNet(nn.Module):\n",
        "    def __init__(self, num_classes=10):\n",
        "        \"\"\"\n",
        "        ResNet 초기화 메서드입니다.\n",
        "        필요한 레이어(계층)를 정의하고, 학습할 클래스의 수(num_classes)를 설정합니다.\n",
        "        \"\"\"\n",
        "        super(ResNet, self).__init__()  # 부모 클래스(nn.Module) 초기화\n",
        "\n",
        "        # 첫 번째 컨볼루션 계층: 입력 이미지는 3채널(RGB), 출력은 64채널입니다.\n",
        "        # 3x3 커널, stride=1로 기본적인 특성 추출을 수행합니다.\n",
        "        self.in_channels = 64  # 처음 입력 채널을 64로 초기화합니다.\n",
        "        self.conv1 = nn.Conv2d(3, 64, kernel_size=3, stride=1, padding=1, bias=False)\n",
        "\n",
        "        # 배치 정규화: 초기 컨볼루션 출력(64 채널)을 정규화합니다.\n",
        "        self.bn1 = nn.BatchNorm2d(64)\n",
        "\n",
        "        # ReLU 활성화 함수: 첫 번째 컨볼루션 결과에 비선형성을 추가합니다.\n",
        "        self.relu = nn.ReLU(inplace=True)\n",
        "\n",
        "        # Residual 블록을 사용하는 네 개의 레이어를 정의합니다.\n",
        "        # 각 레이어는 여러 BasicBlock으로 구성됩니다.\n",
        "        self.layer1 = self._make_layer(64, 2, stride=1)   # 레이어 1: 채널 64, 블록 2개\n",
        "        self.layer2 = self._make_layer(128, 2, stride=2)  # 레이어 2: 채널 128, 블록 2개\n",
        "        self.layer3 = self._make_layer(256, 2, stride=2)  # 레이어 3: 채널 256, 블록 2개\n",
        "        self.layer4 = self._make_layer(512, 2, stride=2)  # 레이어 4: 채널 512, 블록 2개\n",
        "\n",
        "        # AdaptiveAvgPool2d: 입력 크기와 상관없이 1x1 크기로 평균 풀링합니다.\n",
        "        self.avgpool = nn.AdaptiveAvgPool2d((1, 1))\n",
        "\n",
        "        # 마지막 완전 연결 계층: 512차원의 입력을 클래스 개수만큼의 출력으로 변환합니다.\n",
        "        self.fc = nn.Linear(512, num_classes)\n",
        "\n",
        "    def _make_layer(self, out_channels, blocks, stride):\n",
        "        \"\"\"\n",
        "        여러 BasicBlock을 사용해 레이어를 만드는 헬퍼 함수입니다.\n",
        "        각 레이어는 여러 블록으로 구성됩니다.\n",
        "        \"\"\"\n",
        "        layers = []  # 블록을 담을 리스트를 초기화합니다.\n",
        "\n",
        "        # 첫 번째 블록은 in_channels와 out_channels가 다를 수 있으므로 stride를 지정합니다.\n",
        "        layers.append(BasicBlock(self.in_channels, out_channels, stride))\n",
        "\n",
        "        # 입력 채널 수를 다음 블록을 위해 업데이트합니다.\n",
        "        self.in_channels = out_channels\n",
        "\n",
        "        # 두 번째 이후 블록은 stride=1로 입력과 출력의 크기를 동일하게 유지합니다.\n",
        "        for _ in range(1, blocks):\n",
        "            layers.append(BasicBlock(out_channels, out_channels))\n",
        "\n",
        "        # Sequential 객체로 변환해 반환합니다. (여러 블록을 차례로 적용)\n",
        "        return nn.Sequential(*layers)\n",
        "\n",
        "    def forward(self, x):\n",
        "        \"\"\"\n",
        "        순전파(forward) 메서드: 입력을 받아 정의된 네트워크를 통해 출력합니다.\n",
        "        \"\"\"\n",
        "        # 입력 이미지에 첫 번째 컨볼루션, 배치 정규화, ReLU를 차례로 적용합니다.\n",
        "        x = self.conv1(x)  # 첫 번째 컨볼루션\n",
        "        x = self.bn1(x)  # 배치 정규화\n",
        "        x = self.relu(x)  # ReLU 활성화\n",
        "\n",
        "        # 네 개의 레이어를 차례로 거칩니다.\n",
        "        x = self.layer1(x)  # 첫 번째 레이어\n",
        "        x = self.layer2(x)  # 두 번째 레이어\n",
        "        x = self.layer3(x)  # 세 번째 레이어\n",
        "        x = self.layer4(x)  # 네 번째 레이어\n",
        "\n",
        "        # AdaptiveAvgPool2d를 사용해 1x1 크기로 줄입니다.\n",
        "        x = self.avgpool(x)\n",
        "\n",
        "        # 텐서를 평탄화(flatten)하여 2차원으로 변환합니다.\n",
        "        x = torch.flatten(x, 1)\n",
        "\n",
        "        # 완전 연결 계층을 사용해 최종 출력(클래스 확률)을 계산합니다.\n",
        "        x = self.fc(x)\n",
        "\n",
        "        return x  # 최종 출력 반환"
      ],
      "metadata": {
        "id": "-d1t-j5LhoUZ"
      },
      "execution_count": 13,
      "outputs": []
    },
    {
      "cell_type": "code",
      "source": [
        "# 이제 모델의 아키텍처를 정의했으므로, 모델을 학습시켜야 합니다.\n",
        "# 여기서는 손실 함수(교차 엔트로피)와 옵티마이저(확률적 경사 하강법)를 지정합니다.\n",
        "\n",
        "device = torch.device('cuda' if torch.cuda.is_available() else 'cpu')  # GPU가 사용 가능하면 GPU를 사용하고, 그렇지 않으면 CPU 사용\n",
        "model = ResNet(num_classes=num_class).to(device)  # ResNet 모델을 설정하고 장치로 이동\n",
        "loss_function = nn.CrossEntropyLoss()  # 교차 엔트로피 손실 함수 정의\n",
        "optimizer = optim.Adam(model.parameters(), 1e-5)  # SGD 옵티마이저 설정\n",
        "max_epochs=5"
      ],
      "metadata": {
        "id": "t0JOxuRxhuMp"
      },
      "execution_count": 19,
      "outputs": []
    },
    {
      "cell_type": "code",
      "source": [
        "# 학습 루프\n",
        "# 모델 학습\n",
        "with TemporaryDirectory() as tempdir:\n",
        "    best_model_params_path = os.path.join(tempdir, 'best_model_params.pt') # 모델 저장 경로\n",
        "\n",
        "    torch.save(model.state_dict(), best_model_params_path) # 모델 저장\n",
        "    best_acc = 0.0\n",
        "\n",
        "    for epoch in range(max_epochs): # epoch 반복\n",
        "        print(f'Epoch {epoch+1}/{max_epochs}')\n",
        "        print('-' * 10)\n",
        "\n",
        "        # Each epoch has a training and validation phase\n",
        "        for phase in ['train', 'val']:\n",
        "            if phase == 'train':\n",
        "                model.train()  # # 모델을 학습 모드로 설정\n",
        "            else:\n",
        "                model.eval()   # Set model to evaluate mode\n",
        "\n",
        "            running_loss = 0.0  # 손실 초기화\n",
        "            running_corrects = 0\n",
        "\n",
        "            # Iterate over data.\n",
        "            for inputs, labels in dataloaders[phase]:\n",
        "                inputs = inputs.to(device)\n",
        "                labels = labels.to(device)\n",
        "\n",
        "                # zero the parameter gradients\n",
        "                optimizer.zero_grad() # 옵티마이저의 기울기 초기화\n",
        "\n",
        "                # forward\n",
        "                # track history if only in train\n",
        "                with torch.set_grad_enabled(phase == 'train'):\n",
        "                    outputs = model(inputs) # 모델을 사용하여 출력 계산\n",
        "                    _, preds = torch.max(outputs, 1)\n",
        "                    loss = loss_function(outputs, labels) # 손실 계산\n",
        "\n",
        "                    # backward + optimize only if in training phase\n",
        "                    if phase == 'train':\n",
        "                        loss.backward() # 역전파 수행\n",
        "                        optimizer.step()# 옵티마이저를 사용하여 가중치 업데이트\n",
        "\n",
        "                # statistics\n",
        "                running_loss += loss.item() * inputs.size(0) # 손실 값 누적\n",
        "                running_corrects += torch.sum(preds == labels.data)\n",
        "                print(f\"train_loss: {loss.item():.4f}\")\n",
        "\n",
        "            epoch_loss = running_loss / dataset_sizes[phase]\n",
        "            epoch_acc = running_corrects.double() / dataset_sizes[phase]\n",
        "\n",
        "            print(f'{phase} Loss: {epoch_loss:.4f} Acc: {epoch_acc:.4f}')\n",
        "\n",
        "            # deep copy the model\n",
        "            if phase == 'val' and epoch_acc > best_acc:\n",
        "                best_acc = epoch_acc\n",
        "                torch.save(model.state_dict(), best_model_params_path)\n",
        "\n",
        "        print()\n",
        "\n",
        "    # best val accuracy 값 출력\n",
        "    print(f'Best val Acc: {best_acc:4f}')\n",
        "\n",
        "    # load best model weights\n",
        "    model.load_state_dict(torch.load(best_model_params_path))"
      ],
      "metadata": {
        "id": "YxanfZLOhxUl",
        "colab": {
          "base_uri": "https://localhost:8080/"
        },
        "outputId": "6ad10766-7107-4e46-ca39-c67461d3333a"
      },
      "execution_count": 20,
      "outputs": [
        {
          "output_type": "stream",
          "name": "stdout",
          "text": [
            "Epoch 1/5\n",
            "----------\n",
            "train_loss: 1.8361\n",
            "train_loss: 1.6585\n",
            "train_loss: 1.4886\n",
            "train_loss: 1.3845\n",
            "train_loss: 1.2528\n",
            "train_loss: 1.1515\n",
            "train_loss: 1.0450\n",
            "train_loss: 0.9873\n",
            "train_loss: 0.9060\n",
            "train_loss: 0.8259\n",
            "train_loss: 0.7982\n",
            "train_loss: 0.7151\n",
            "train_loss: 0.6058\n",
            "train_loss: 0.5895\n",
            "train_loss: 0.5212\n",
            "train_loss: 0.5496\n",
            "train_loss: 0.4942\n",
            "train_loss: 0.3931\n",
            "train_loss: 0.3821\n",
            "train_loss: 0.3463\n",
            "train Loss: 0.8966 Acc: 0.7320\n",
            "train_loss: 1.9558\n",
            "train_loss: 1.9692\n",
            "val Loss: 1.9625 Acc: 0.1667\n",
            "\n",
            "Epoch 2/5\n",
            "----------\n",
            "train_loss: 0.3393\n",
            "train_loss: 0.3291\n",
            "train_loss: 0.3077\n",
            "train_loss: 0.2784\n",
            "train_loss: 0.2111\n",
            "train_loss: 0.2019\n",
            "train_loss: 0.1900\n",
            "train_loss: 0.1942\n",
            "train_loss: 0.1864\n",
            "train_loss: 0.1572\n",
            "train_loss: 0.1735\n",
            "train_loss: 0.1557\n",
            "train_loss: 0.1914\n",
            "train_loss: 0.1101\n",
            "train_loss: 0.0927\n",
            "train_loss: 0.1535\n",
            "train_loss: 0.1079\n",
            "train_loss: 0.1058\n",
            "train_loss: 0.1132\n",
            "train_loss: 0.0978\n",
            "train Loss: 0.1848 Acc: 0.9765\n",
            "train_loss: 0.2968\n",
            "train_loss: 0.2637\n",
            "val Loss: 0.2803 Acc: 0.9683\n",
            "\n",
            "Epoch 3/5\n",
            "----------\n",
            "train_loss: 0.0633\n",
            "train_loss: 0.0936\n",
            "train_loss: 0.0910\n",
            "train_loss: 0.0793\n",
            "train_loss: 0.0825\n",
            "train_loss: 0.0878\n",
            "train_loss: 0.0748\n",
            "train_loss: 0.0673\n",
            "train_loss: 0.0615\n",
            "train_loss: 0.0788\n",
            "train_loss: 0.0543\n",
            "train_loss: 0.0804\n",
            "train_loss: 0.0459\n",
            "train_loss: 0.0688\n",
            "train_loss: 0.0580\n",
            "train_loss: 0.0496\n",
            "train_loss: 0.0456\n",
            "train_loss: 0.0454\n",
            "train_loss: 0.0388\n",
            "train_loss: 0.0408\n",
            "train Loss: 0.0654 Acc: 0.9878\n",
            "train_loss: 0.0554\n",
            "train_loss: 0.0511\n",
            "val Loss: 0.0532 Acc: 0.9867\n",
            "\n",
            "Epoch 4/5\n",
            "----------\n",
            "train_loss: 0.0571\n",
            "train_loss: 0.0595\n",
            "train_loss: 0.0371\n",
            "train_loss: 0.0288\n",
            "train_loss: 0.0300\n",
            "train_loss: 0.0279\n",
            "train_loss: 0.0389\n",
            "train_loss: 0.0406\n",
            "train_loss: 0.0298\n",
            "train_loss: 0.0624\n",
            "train_loss: 0.0307\n",
            "train_loss: 0.0189\n",
            "train_loss: 0.0376\n",
            "train_loss: 0.0204\n",
            "train_loss: 0.0279\n",
            "train_loss: 0.0245\n",
            "train_loss: 0.0316\n",
            "train_loss: 0.0396\n",
            "train_loss: 0.0263\n",
            "train_loss: 0.0383\n",
            "train Loss: 0.0354 Acc: 0.9932\n",
            "train_loss: 0.0287\n",
            "train_loss: 0.0323\n",
            "val Loss: 0.0305 Acc: 0.9900\n",
            "\n",
            "Epoch 5/5\n",
            "----------\n",
            "train_loss: 0.0269\n",
            "train_loss: 0.0204\n",
            "train_loss: 0.0202\n",
            "train_loss: 0.0217\n",
            "train_loss: 0.0216\n",
            "train_loss: 0.0436\n",
            "train_loss: 0.0234\n",
            "train_loss: 0.0222\n",
            "train_loss: 0.0263\n",
            "train_loss: 0.0191\n",
            "train_loss: 0.0157\n",
            "train_loss: 0.0206\n",
            "train_loss: 0.0198\n",
            "train_loss: 0.0189\n",
            "train_loss: 0.0183\n",
            "train_loss: 0.0274\n",
            "train_loss: 0.0143\n",
            "train_loss: 0.0193\n",
            "train_loss: 0.0175\n",
            "train_loss: 0.0301\n",
            "train Loss: 0.0224 Acc: 0.9975\n",
            "train_loss: 0.0241\n",
            "train_loss: 0.0191\n",
            "val Loss: 0.0216 Acc: 0.9950\n",
            "\n",
            "Best val Acc: 0.995000\n"
          ]
        },
        {
          "output_type": "stream",
          "name": "stderr",
          "text": [
            "<ipython-input-20-43503c8f07c1>:64: FutureWarning: You are using `torch.load` with `weights_only=False` (the current default value), which uses the default pickle module implicitly. It is possible to construct malicious pickle data which will execute arbitrary code during unpickling (See https://github.com/pytorch/pytorch/blob/main/SECURITY.md#untrusted-models for more details). In a future release, the default value for `weights_only` will be flipped to `True`. This limits the functions that could be executed during unpickling. Arbitrary objects will no longer be allowed to be loaded via this mode unless they are explicitly allowlisted by the user via `torch.serialization.add_safe_globals`. We recommend you start setting `weights_only=True` for any use case where you don't have full control of the loaded file. Please open an issue on GitHub for any issues related to this experimental feature.\n",
            "  model.load_state_dict(torch.load(best_model_params_path))\n"
          ]
        }
      ]
    },
    {
      "cell_type": "code",
      "execution_count": 21,
      "metadata": {
        "id": "wESudQ4tq2dA"
      },
      "outputs": [],
      "source": [
        "model.eval() # 모델 평가 모드로 전환\n",
        "y_true = [] # 정답 라벨 리스트\n",
        "y_pred = [] # 예측 라벨 리스트"
      ]
    },
    {
      "cell_type": "code",
      "execution_count": 22,
      "metadata": {
        "id": "mZmgRYZUrL-o",
        "colab": {
          "base_uri": "https://localhost:8080/"
        },
        "outputId": "7ac80acb-efb3-4b59-f69a-2f5cc73facf6"
      },
      "outputs": [
        {
          "output_type": "stream",
          "name": "stdout",
          "text": [
            "300\r300\r"
          ]
        }
      ],
      "source": [
        "# 모델 평가\n",
        "with torch.no_grad(): # 평가시에는 gradient 계산을 수행하지 않음\n",
        "    for i, (inputs, labels) in enumerate(dataloaders[\"test\"]): # test 데이터에 대해 batch 단위로 반복\n",
        "        inputs = inputs.to(device)\n",
        "        labels = labels.to(device)\n",
        "\n",
        "        outputs = model(inputs) # 모델 출력\n",
        "        _, preds = torch.max(outputs, 1) # 모델 출력값 중 가장 큰 값의 인덱스 저장\n",
        "        print(len(preds) ,end='\\r')\n",
        "        for i in range(len(preds)): # batch 단위로 예측값과 정답값 저장\n",
        "          y_true.append(labels[i].item()) # 정답 라벨 리스트에 정답값 저장\n",
        "          y_pred.append(preds[i].item()) # 예측 라벨 리스트에 예측값 저장"
      ]
    },
    {
      "cell_type": "code",
      "source": [
        "from sklearn.metrics import classification_report\n",
        "\n",
        "# classification report 출력\n",
        "print(classification_report(y_true, y_pred, target_names=class_names, digits=4))"
      ],
      "metadata": {
        "colab": {
          "base_uri": "https://localhost:8080/"
        },
        "id": "HpLvM_gnssBP",
        "outputId": "0ed5e2e6-10a2-47f8-eb8b-d9966f843b60"
      },
      "execution_count": 23,
      "outputs": [
        {
          "output_type": "stream",
          "name": "stdout",
          "text": [
            "              precision    recall  f1-score   support\n",
            "\n",
            "   AbdomenCT     1.0000    1.0000    1.0000       100\n",
            "   BreastMRI     1.0000    1.0000    1.0000       100\n",
            "         CXR     1.0000    1.0000    1.0000       100\n",
            "     ChestCT     1.0000    1.0000    1.0000       100\n",
            "        Hand     1.0000    0.9900    0.9950       100\n",
            "      HeadCT     0.9901    1.0000    0.9950       100\n",
            "\n",
            "    accuracy                         0.9983       600\n",
            "   macro avg     0.9983    0.9983    0.9983       600\n",
            "weighted avg     0.9983    0.9983    0.9983       600\n",
            "\n"
          ]
        }
      ]
    },
    {
      "cell_type": "code",
      "source": [],
      "metadata": {
        "id": "m_eHS3fKF1NH"
      },
      "execution_count": null,
      "outputs": []
    }
  ],
  "metadata": {
    "accelerator": "GPU",
    "colab": {
      "gpuType": "A100",
      "provenance": [],
      "machine_shape": "hm",
      "include_colab_link": true
    },
    "kernelspec": {
      "display_name": "Python 3",
      "name": "python3"
    },
    "language_info": {
      "name": "python"
    }
  },
  "nbformat": 4,
  "nbformat_minor": 0
}